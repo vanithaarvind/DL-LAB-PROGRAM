{
  "nbformat": 4,
  "nbformat_minor": 0,
  "metadata": {
    "kernelspec": {
      "display_name": "IPython (Python 2.7)",
      "language": "python",
      "name": "python2"
    },
    "language_info": {
      "codemirror_mode": {
        "name": "ipython",
        "version": 2
      },
      "file_extension": ".py",
      "mimetype": "text/x-python",
      "name": "python",
      "nbconvert_exporter": "python",
      "pygments_lexer": "ipython2",
      "version": "2.7.8"
    },
    "colab": {
      "name": "1 basic_operations.ipynb",
      "provenance": [],
      "collapsed_sections": []
    }
  },
  "cells": [
    {
      "cell_type": "code",
      "metadata": {
        "id": "zsrcCLaBseWw",
        "colab_type": "code",
        "colab": {}
      },
      "source": [
        "import tensorflow as tf\n",
        "import numpy as np"
      ],
      "execution_count": 0,
      "outputs": []
    },
    {
      "cell_type": "code",
      "metadata": {
        "id": "x6w9FEaDseW4",
        "colab_type": "code",
        "colab": {}
      },
      "source": [
        "# Basic constant operations\n",
        "# The value returned by the constructor represents the output\n",
        "# of the Constant op.\n",
        "a = tf.constant(2)\n",
        "b = tf.constant(3)"
      ],
      "execution_count": 0,
      "outputs": []
    },
    {
      "cell_type": "code",
      "metadata": {
        "id": "a38UwJadseW8",
        "colab_type": "code",
        "colab": {
          "base_uri": "https://localhost:8080/",
          "height": 70
        },
        "outputId": "798b261e-fc65-48eb-dd3b-6d856a8f68d6"
      },
      "source": [
        "# Launch the default graph.\n",
        "with tf.Session() as sess:\n",
        "    print \"a: %i\" % sess.run(a), \"b: %i\" % sess.run(b)\n",
        "    print \"Addition with constants: %i\" % sess.run(a+b)\n",
        "    print \"Multiplication with constants: %i\" % sess.run(a*b)"
      ],
      "execution_count": 26,
      "outputs": [
        {
          "output_type": "stream",
          "text": [
            "a: 2 b: 3\n",
            "Addition with constants: 5\n",
            "Multiplication with constants: 6\n"
          ],
          "name": "stdout"
        }
      ]
    },
    {
      "cell_type": "code",
      "metadata": {
        "id": "PBEXXfoCseXA",
        "colab_type": "code",
        "colab": {}
      },
      "source": [
        "# Basic Operations with variable as graph input\n",
        "# The value returned by the constructor represents the output\n",
        "# of the Variable op. (define as input when running session)\n",
        "# tf Graph input\n",
        "a = tf.placeholder(tf.int16)\n",
        "b = tf.placeholder(tf.int16)"
      ],
      "execution_count": 0,
      "outputs": []
    },
    {
      "cell_type": "code",
      "metadata": {
        "id": "k6nZtUJCseXE",
        "colab_type": "code",
        "colab": {}
      },
      "source": [
        "# Define some operations\n",
        "add = tf.add(a, b)\n",
        "mul = tf.multiply(a, b)"
      ],
      "execution_count": 0,
      "outputs": []
    },
    {
      "cell_type": "code",
      "metadata": {
        "id": "KxFyWBb_seXJ",
        "colab_type": "code",
        "colab": {
          "base_uri": "https://localhost:8080/",
          "height": 52
        },
        "outputId": "848155d2-225c-4585-dc02-06cd2e355a4a"
      },
      "source": [
        "# Launch the default graph.\n",
        "with tf.Session() as sess:\n",
        "    # Run every operation with variable input\n",
        "    print \"Addition with variables: %i\" % sess.run(add, feed_dict={a: 2, b: 3})\n",
        "    print \"Multiplication with variables: %i\" % sess.run(mul, feed_dict={a: 2, b: 3})"
      ],
      "execution_count": 29,
      "outputs": [
        {
          "output_type": "stream",
          "text": [
            "Addition with variables: 5\n",
            "Multiplication with variables: 6\n"
          ],
          "name": "stdout"
        }
      ]
    },
    {
      "cell_type": "code",
      "metadata": {
        "id": "cUAbMm6PseXM",
        "colab_type": "code",
        "colab": {}
      },
      "source": [
        "# ----------------\n",
        "# More in details:\n",
        "# Matrix Multiplication from TensorFlow official tutorial\n",
        "\n",
        "# Create a Constant op that produces a 1x2 matrix.  The op is\n",
        "# added as a node to the default graph.\n",
        "#\n",
        "# The value returned by the constructor represents the output\n",
        "# of the Constant op.\n",
        "matrix1 = tf.constant([[3., 3.]])"
      ],
      "execution_count": 0,
      "outputs": []
    },
    {
      "cell_type": "code",
      "metadata": {
        "id": "Lm34Mq2rseXR",
        "colab_type": "code",
        "colab": {}
      },
      "source": [
        "# Create another Constant that produces a 2x1 matrix.\n",
        "matrix2 = tf.constant([[2.],[2.]])"
      ],
      "execution_count": 0,
      "outputs": []
    },
    {
      "cell_type": "code",
      "metadata": {
        "id": "kPE12mK_seXT",
        "colab_type": "code",
        "colab": {}
      },
      "source": [
        "# Create a Matmul op that takes 'matrix1' and 'matrix2' as inputs.\n",
        "# The returned value, 'product', represents the result of the matrix\n",
        "# multiplication.\n",
        "product = tf.matmul(matrix1, matrix2)"
      ],
      "execution_count": 0,
      "outputs": []
    },
    {
      "cell_type": "code",
      "metadata": {
        "id": "4MjuC7HOseXa",
        "colab_type": "code",
        "colab": {
          "base_uri": "https://localhost:8080/",
          "height": 34
        },
        "outputId": "a9736938-777c-4108-f3ca-fa2ec26ec9cd"
      },
      "source": [
        "# To run the matmul op we call the session 'run()' method, passing 'product'\n",
        "# which represents the output of the matmul op.  This indicates to the call\n",
        "# that we want to get the output of the matmul op back.\n",
        "#\n",
        "# All inputs needed by the op are run automatically by the session.  They\n",
        "# typically are run in parallel.\n",
        "#\n",
        "# The call 'run(product)' thus causes the execution of threes ops in the\n",
        "# graph: the two constants and matmul.\n",
        "#\n",
        "# The output of the op is returned in 'result' as a numpy `ndarray` object.\n",
        "with tf.Session() as sess:\n",
        "    result = sess.run(product)\n",
        "    print result"
      ],
      "execution_count": 10,
      "outputs": [
        {
          "output_type": "stream",
          "text": [
            "[[12.]]\n"
          ],
          "name": "stdout"
        }
      ]
    },
    {
      "cell_type": "code",
      "metadata": {
        "id": "d7Ia2Uiot-j8",
        "colab_type": "code",
        "colab": {
          "base_uri": "https://localhost:8080/",
          "height": 122
        },
        "outputId": "a3419889-9bbb-4a6a-8931-e394a42000b7"
      },
      "source": [
        "# Full compatibility with Numpy\n",
        "print(\"Mixing operations with Tensors and Numpy Arrays\")\n",
        "\n",
        "# Define constant tensors\n",
        "x = tf.constant([[2., 1.],\n",
        "                 [1., 0.]], dtype=tf.float32)\n",
        "print(\"Tensor:\\n x = %s\" % x)\n",
        "y = np.array([[3., 0.],\n",
        "              [5., 1.]], dtype=np.float32)\n",
        "print(\"NumpyArray:\\n y = %s\" % y)"
      ],
      "execution_count": 30,
      "outputs": [
        {
          "output_type": "stream",
          "text": [
            "Mixing operations with Tensors and Numpy Arrays\n",
            "Tensor:\n",
            " x = Tensor(\"Const_10:0\", shape=(2, 2), dtype=float32)\n",
            "NumpyArray:\n",
            " y = [[3. 0.]\n",
            " [5. 1.]]\n"
          ],
          "name": "stdout"
        }
      ]
    },
    {
      "cell_type": "code",
      "metadata": {
        "id": "UOaGKkCRt-SL",
        "colab_type": "code",
        "colab": {
          "base_uri": "https://localhost:8080/",
          "height": 70
        },
        "outputId": "036fe0a0-37dc-402f-83bb-c1cffd6049ea"
      },
      "source": [
        "# Run the operation without the need for tf.Session\n",
        "print(\"Running operations, without tf.Session\")\n",
        "\n",
        "c = x + y\n",
        "print(\"x + y = %s\" % c)\n",
        "\n",
        "d = tf.matmul(x, y)\n",
        "print(\"x * y = %s\" % d)"
      ],
      "execution_count": 32,
      "outputs": [
        {
          "output_type": "stream",
          "text": [
            "Running operations, without tf.Session\n",
            "x + y = Tensor(\"add_5:0\", shape=(2, 2), dtype=float32)\n",
            "x * y = Tensor(\"MatMul_2:0\", shape=(2, 2), dtype=float32)\n"
          ],
          "name": "stdout"
        }
      ]
    },
    {
      "cell_type": "code",
      "metadata": {
        "id": "Y1yu4rQot99Q",
        "colab_type": "code",
        "colab": {
          "base_uri": "https://localhost:8080/",
          "height": 105
        },
        "outputId": "fc97796b-7ff2-4b8b-d84c-e07f1f53e76d"
      },
      "source": [
        "print(\"Iterate through Tensor 'a':\")\n",
        "for i in range(x.shape[0]):\n",
        "    for j in range(x.shape[1]):\n",
        "        print(x[i][j])"
      ],
      "execution_count": 34,
      "outputs": [
        {
          "output_type": "stream",
          "text": [
            "Iterate through Tensor 'a':\n",
            "Tensor(\"strided_slice_1:0\", shape=(), dtype=float32)\n",
            "Tensor(\"strided_slice_3:0\", shape=(), dtype=float32)\n",
            "Tensor(\"strided_slice_5:0\", shape=(), dtype=float32)\n",
            "Tensor(\"strided_slice_7:0\", shape=(), dtype=float32)\n"
          ],
          "name": "stdout"
        }
      ]
    },
    {
      "cell_type": "code",
      "metadata": {
        "id": "TvKfOpv_umnm",
        "colab_type": "code",
        "colab": {}
      },
      "source": [
        ""
      ],
      "execution_count": 0,
      "outputs": []
    },
    {
      "cell_type": "code",
      "metadata": {
        "id": "O1ShIRufspfe",
        "colab_type": "code",
        "colab": {}
      },
      "source": [
        "# Create a Constant op\n",
        "# The op is added as a node to the default graph.\n",
        "#\n",
        "# The value returned by the constructor represents the output\n",
        "# of the Constant op.\n",
        "\n",
        "data = tf.constant('Name, UG Number')"
      ],
      "execution_count": 0,
      "outputs": []
    },
    {
      "cell_type": "code",
      "metadata": {
        "id": "HRhgNN1PtKcg",
        "colab_type": "code",
        "colab": {}
      },
      "source": [
        "# Start tf session\n",
        "sess = tf.Session()"
      ],
      "execution_count": 0,
      "outputs": []
    },
    {
      "cell_type": "code",
      "metadata": {
        "id": "X9r6xQB6tBGX",
        "colab_type": "code",
        "colab": {
          "base_uri": "https://localhost:8080/",
          "height": 34
        },
        "outputId": "f9c5e7d9-cc5c-462b-ee6b-696bc4d70b7a"
      },
      "source": [
        "# Run graph\n",
        "print(sess.run(data))"
      ],
      "execution_count": 37,
      "outputs": [
        {
          "output_type": "stream",
          "text": [
            "Name, UG Number\n"
          ],
          "name": "stdout"
        }
      ]
    },
    {
      "cell_type": "code",
      "metadata": {
        "id": "1LWjr6yrtn1q",
        "colab_type": "code",
        "colab": {}
      },
      "source": [
        ""
      ],
      "execution_count": 0,
      "outputs": []
    },
    {
      "cell_type": "code",
      "metadata": {
        "id": "oVgIea-ato4D",
        "colab_type": "code",
        "colab": {}
      },
      "source": [
        ""
      ],
      "execution_count": 0,
      "outputs": []
    }
  ]
}