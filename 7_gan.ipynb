{
  "nbformat": 4,
  "nbformat_minor": 0,
  "metadata": {
    "kernelspec": {
      "display_name": "Python 2",
      "language": "python",
      "name": "python2"
    },
    "language_info": {
      "codemirror_mode": {
        "name": "ipython",
        "version": 2
      },
      "file_extension": ".py",
      "mimetype": "text/x-python",
      "name": "python",
      "nbconvert_exporter": "python",
      "pygments_lexer": "ipython2",
      "version": "2.7.12"
    },
    "colab": {
      "name": "10 gan.ipynb",
      "provenance": [],
      "toc_visible": true
    }
  },
  "cells": [
    {
      "cell_type": "markdown",
      "metadata": {
        "collapsed": true,
        "id": "d-C-74X9WQuq",
        "colab_type": "text"
      },
      "source": [
        "# Generative Adversarial Network Example\n",
        "\n",
        "Build a generative adversarial network (GAN) to generate digit images from a noise distribution with TensorFlow.\n"
      ]
    },
    {
      "cell_type": "markdown",
      "metadata": {
        "id": "DKKiT_QqWQus",
        "colab_type": "text"
      },
      "source": [
        "## GAN Overview\n",
        "\n",
        "<img src=\"http://www.timzhangyuxuan.com/static/images/project_DCGAN/structure.png\" alt=\"nn\" style=\"width: 800px;\"/>\n",
        "\n"
      ]
    },
    {
      "cell_type": "code",
      "metadata": {
        "id": "IvULUTiTWQut",
        "colab_type": "code",
        "colab": {}
      },
      "source": [
        "from __future__ import division, print_function, absolute_import\n",
        "\n",
        "import matplotlib.pyplot as plt\n",
        "import numpy as np\n",
        "import tensorflow as tf"
      ],
      "execution_count": 0,
      "outputs": []
    },
    {
      "cell_type": "code",
      "metadata": {
        "id": "WKLBHbu7WQuw",
        "colab_type": "code",
        "colab": {
          "base_uri": "https://localhost:8080/",
          "height": 87
        },
        "outputId": "04083503-983d-4603-b489-22ffbc473605"
      },
      "source": [
        "# Import MNIST data\n",
        "from tensorflow.examples.tutorials.mnist import input_data\n",
        "mnist = input_data.read_data_sets(\"content\", one_hot=True)"
      ],
      "execution_count": 32,
      "outputs": [
        {
          "output_type": "stream",
          "text": [
            "Extracting content/train-images-idx3-ubyte.gz\n",
            "Extracting content/train-labels-idx1-ubyte.gz\n",
            "Extracting content/t10k-images-idx3-ubyte.gz\n",
            "Extracting content/t10k-labels-idx1-ubyte.gz\n"
          ],
          "name": "stdout"
        }
      ]
    },
    {
      "cell_type": "code",
      "metadata": {
        "id": "7rPAEgVjWQuy",
        "colab_type": "code",
        "colab": {}
      },
      "source": [
        "# Training Params\n",
        "num_steps = 70000\n",
        "batch_size = 128\n",
        "learning_rate = 0.0002\n",
        "\n",
        "# Network Params\n",
        "image_dim = 784 # 28*28 pixels\n",
        "gen_hidden_dim = 256\n",
        "disc_hidden_dim = 256\n",
        "noise_dim = 100 # Noise data points\n",
        "\n",
        "# A custom initialization (see Xavier Glorot init)\n",
        "def glorot_init(shape):\n",
        "    return tf.random_normal(shape=shape, stddev=1. / tf.sqrt(shape[0] / 2.))"
      ],
      "execution_count": 0,
      "outputs": []
    },
    {
      "cell_type": "code",
      "metadata": {
        "id": "kjF1XvLQWQu0",
        "colab_type": "code",
        "colab": {}
      },
      "source": [
        "# Store layers weight & bias\n",
        "weights = {\n",
        "    'gen_hidden1': tf.Variable(glorot_init([noise_dim, gen_hidden_dim])),\n",
        "    'gen_out': tf.Variable(glorot_init([gen_hidden_dim, image_dim])),\n",
        "    'disc_hidden1': tf.Variable(glorot_init([image_dim, disc_hidden_dim])),\n",
        "    'disc_out': tf.Variable(glorot_init([disc_hidden_dim, 1])),\n",
        "}\n",
        "biases = {\n",
        "    'gen_hidden1': tf.Variable(tf.zeros([gen_hidden_dim])),\n",
        "    'gen_out': tf.Variable(tf.zeros([image_dim])),\n",
        "    'disc_hidden1': tf.Variable(tf.zeros([disc_hidden_dim])),\n",
        "    'disc_out': tf.Variable(tf.zeros([1])),\n",
        "}"
      ],
      "execution_count": 0,
      "outputs": []
    },
    {
      "cell_type": "code",
      "metadata": {
        "id": "oRh1BOalWQu2",
        "colab_type": "code",
        "colab": {}
      },
      "source": [
        "# Generator\n",
        "def generator(x):\n",
        "    hidden_layer = tf.matmul(x, weights['gen_hidden1'])\n",
        "    hidden_layer = tf.add(hidden_layer, biases['gen_hidden1'])\n",
        "    hidden_layer = tf.nn.relu(hidden_layer)\n",
        "    out_layer = tf.matmul(hidden_layer, weights['gen_out'])\n",
        "    out_layer = tf.add(out_layer, biases['gen_out'])\n",
        "    out_layer = tf.nn.sigmoid(out_layer)\n",
        "    return out_layer\n",
        "\n",
        "\n",
        "# Discriminator\n",
        "def discriminator(x):\n",
        "    hidden_layer = tf.matmul(x, weights['disc_hidden1'])\n",
        "    hidden_layer = tf.add(hidden_layer, biases['disc_hidden1'])\n",
        "    hidden_layer = tf.nn.relu(hidden_layer)\n",
        "    out_layer = tf.matmul(hidden_layer, weights['disc_out'])\n",
        "    out_layer = tf.add(out_layer, biases['disc_out'])\n",
        "    out_layer = tf.nn.sigmoid(out_layer)\n",
        "    return out_layer\n",
        "\n",
        "# Build Networks\n",
        "# Network Inputs\n",
        "gen_input = tf.placeholder(tf.float32, shape=[None, noise_dim], name='input_noise')\n",
        "disc_input = tf.placeholder(tf.float32, shape=[None, image_dim], name='disc_input')\n",
        "\n",
        "# Build Generator Network\n",
        "gen_sample = generator(gen_input)\n",
        "\n",
        "# Build 2 Discriminator Networks (one from noise input, one from generated samples)\n",
        "disc_real = discriminator(disc_input)\n",
        "disc_fake = discriminator(gen_sample)\n",
        "\n",
        "# Build Loss\n",
        "gen_loss = -tf.reduce_mean(tf.log(disc_fake))\n",
        "disc_loss = -tf.reduce_mean(tf.log(disc_real) + tf.log(1. - disc_fake))\n",
        "\n",
        "# Build Optimizers\n",
        "optimizer_gen = tf.train.AdamOptimizer(learning_rate=learning_rate)\n",
        "optimizer_disc = tf.train.AdamOptimizer(learning_rate=learning_rate)\n",
        "\n",
        "# Training Variables for each optimizer\n",
        "# By default in TensorFlow, all variables are updated by each optimizer, so we\n",
        "# need to precise for each one of them the specific variables to update.\n",
        "# Generator Network Variables\n",
        "gen_vars = [weights['gen_hidden1'], weights['gen_out'],\n",
        "            biases['gen_hidden1'], biases['gen_out']]\n",
        "# Discriminator Network Variables\n",
        "disc_vars = [weights['disc_hidden1'], weights['disc_out'],\n",
        "            biases['disc_hidden1'], biases['disc_out']]\n",
        "\n",
        "# Create training operations\n",
        "train_gen = optimizer_gen.minimize(gen_loss, var_list=gen_vars)\n",
        "train_disc = optimizer_disc.minimize(disc_loss, var_list=disc_vars)\n",
        "\n",
        "# Initialize the variables (i.e. assign their default value)\n",
        "init = tf.global_variables_initializer()"
      ],
      "execution_count": 0,
      "outputs": []
    },
    {
      "cell_type": "code",
      "metadata": {
        "id": "iM9qOHsXWQu4",
        "colab_type": "code",
        "colab": {
          "base_uri": "https://localhost:8080/",
          "height": 650
        },
        "outputId": "778e71e8-e091-47df-e28c-032b71f07a33"
      },
      "source": [
        "# Start Training\n",
        "# Start a new TF session\n",
        "sess = tf.Session()\n",
        "\n",
        "# Run the initializer\n",
        "sess.run(init)\n",
        "\n",
        "# Training\n",
        "for i in range(1, num_steps+1):\n",
        "    # Prepare Data\n",
        "    # Get the next batch of MNIST data (only images are needed, not labels)\n",
        "    batch_x, _ = mnist.train.next_batch(batch_size)\n",
        "    # Generate noise to feed to the generator\n",
        "    z = np.random.uniform(-1., 1., size=[batch_size, noise_dim])\n",
        "\n",
        "    # Train\n",
        "    feed_dict = {disc_input: batch_x, gen_input: z}\n",
        "    _, _, gl, dl = sess.run([train_gen, train_disc, gen_loss, disc_loss],\n",
        "                            feed_dict=feed_dict)\n",
        "    if i % 2000 == 0 or i == 1:\n",
        "        print('Step %i: Generator Loss: %f, Discriminator Loss: %f' % (i, gl, dl))"
      ],
      "execution_count": 36,
      "outputs": [
        {
          "output_type": "stream",
          "text": [
            "Step 1: Generator Loss: 0.384055, Discriminator Loss: 1.736306\n",
            "Step 2000: Generator Loss: 4.986410, Discriminator Loss: 0.016502\n",
            "Step 4000: Generator Loss: 3.909516, Discriminator Loss: 0.102048\n",
            "Step 6000: Generator Loss: 3.641514, Discriminator Loss: 0.181201\n",
            "Step 8000: Generator Loss: 4.062743, Discriminator Loss: 0.126231\n",
            "Step 10000: Generator Loss: 4.242624, Discriminator Loss: 0.350625\n",
            "Step 12000: Generator Loss: 4.334880, Discriminator Loss: 0.227476\n",
            "Step 14000: Generator Loss: 3.360580, Discriminator Loss: 0.252651\n",
            "Step 16000: Generator Loss: 3.381782, Discriminator Loss: 0.245501\n",
            "Step 18000: Generator Loss: 4.568876, Discriminator Loss: 0.174129\n",
            "Step 20000: Generator Loss: 4.109612, Discriminator Loss: 0.199012\n",
            "Step 22000: Generator Loss: 3.694041, Discriminator Loss: 0.278779\n",
            "Step 24000: Generator Loss: 3.645412, Discriminator Loss: 0.229225\n",
            "Step 26000: Generator Loss: 4.444406, Discriminator Loss: 0.353992\n",
            "Step 28000: Generator Loss: 4.071033, Discriminator Loss: 0.241275\n",
            "Step 30000: Generator Loss: 3.396701, Discriminator Loss: 0.232908\n",
            "Step 32000: Generator Loss: 2.683696, Discriminator Loss: 0.398668\n",
            "Step 34000: Generator Loss: 2.881028, Discriminator Loss: 0.415913\n",
            "Step 36000: Generator Loss: 3.102611, Discriminator Loss: 0.367861\n",
            "Step 38000: Generator Loss: 2.783001, Discriminator Loss: 0.470046\n",
            "Step 40000: Generator Loss: 2.968573, Discriminator Loss: 0.416087\n",
            "Step 42000: Generator Loss: 2.645566, Discriminator Loss: 0.495496\n",
            "Step 44000: Generator Loss: 2.667741, Discriminator Loss: 0.381982\n",
            "Step 46000: Generator Loss: 2.844812, Discriminator Loss: 0.487228\n",
            "Step 48000: Generator Loss: 3.447505, Discriminator Loss: 0.450513\n",
            "Step 50000: Generator Loss: 3.285486, Discriminator Loss: 0.415810\n",
            "Step 52000: Generator Loss: 2.716098, Discriminator Loss: 0.413740\n",
            "Step 54000: Generator Loss: 2.771304, Discriminator Loss: 0.404140\n",
            "Step 56000: Generator Loss: 2.416091, Discriminator Loss: 0.493689\n",
            "Step 58000: Generator Loss: 2.864888, Discriminator Loss: 0.490273\n",
            "Step 60000: Generator Loss: 2.746728, Discriminator Loss: 0.340014\n",
            "Step 62000: Generator Loss: 2.779991, Discriminator Loss: 0.409624\n",
            "Step 64000: Generator Loss: 2.808775, Discriminator Loss: 0.370055\n",
            "Step 66000: Generator Loss: 2.788915, Discriminator Loss: 0.525257\n",
            "Step 68000: Generator Loss: 2.845056, Discriminator Loss: 0.519405\n",
            "Step 70000: Generator Loss: 2.616825, Discriminator Loss: 0.484802\n"
          ],
          "name": "stdout"
        }
      ]
    },
    {
      "cell_type": "code",
      "metadata": {
        "id": "x7bLHoRyWQu6",
        "colab_type": "code",
        "colab": {
          "base_uri": "https://localhost:8080/",
          "height": 378
        },
        "outputId": "c8d4c1b5-5385-4ceb-bb17-ae535a3b37f0"
      },
      "source": [
        "# Testing\n",
        "# Generate images from noise, using the generator network.\n",
        "n = 6\n",
        "canvas = np.empty((28 * n, 28 * n))\n",
        "for i in range(n):\n",
        "    # Noise input.\n",
        "    z = np.random.uniform(-1., 1., size=[n, noise_dim])\n",
        "    # Generate image from noise.\n",
        "    g = sess.run(gen_sample, feed_dict={gen_input: z})\n",
        "    # Reverse colours for better display\n",
        "    g = -1 * (g - 1)\n",
        "    for j in range(n):\n",
        "        # Draw the generated digits\n",
        "        canvas[i * 28:(i + 1) * 28, j * 28:(j + 1) * 28] = g[j].reshape([28, 28])\n",
        "\n",
        "plt.figure(figsize=(n, n))\n",
        "plt.imshow(canvas, origin=\"upper\", cmap=\"gray\")\n",
        "plt.show()\n",
        "\n"
      ],
      "execution_count": 37,
      "outputs": [
        {
          "output_type": "display_data",
          "data": {
            "image/png": "[encoded data removed]",
            "text/plain": [
              "<Figure size 432x432 with 1 Axes>"
            ]
          },
          "metadata": {
            "tags": []
          }
        }
      ]
    },
    {
      "cell_type": "code",
      "metadata": {
        "id": "ruxclVVkaOvV",
        "colab_type": "code",
        "colab": {}
      },
      "source": [
        ""
      ],
      "execution_count": 0,
      "outputs": []
    }
  ]
}